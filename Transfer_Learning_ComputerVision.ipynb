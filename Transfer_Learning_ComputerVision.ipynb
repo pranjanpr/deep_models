{
  "nbformat": 4,
  "nbformat_minor": 0,
  "metadata": {
    "colab": {
      "name": "Transfer_Learning_ComputerVision",
      "provenance": [],
      "collapsed_sections": [],
      "toc_visible": true
    },
    "kernelspec": {
      "name": "python3",
      "display_name": "Python 3"
    }
  },
  "cells": [
    {
      "cell_type": "markdown",
      "metadata": {
        "id": "dZ5pDGmnF4Ah"
      },
      "source": [
        "We are going to use the methodology of Transfer Learning for training VGG-16 Model\r\n"
      ]
    },
    {
      "cell_type": "markdown",
      "metadata": {
        "id": "VqGn1A9EGNn2"
      },
      "source": [
        "# What is Transfer Learning?\r\n",
        "It is often the case that we don't have enough data to train our model. In such situations we use pre trained model weights and optimise it as per our data and requirements.\r\n",
        "It is widely used in Convolutional Neural Networks(CNN).\r\n",
        "The reason being training CNNs from scratch requires too much time and also it is pretty CPU and GPU intensive task.\r\n"
      ]
    },
    {
      "cell_type": "markdown",
      "metadata": {
        "id": "0lQIU7mPIBV8"
      },
      "source": [
        "Here we are going to use VGG-16 model with the weights of 'Imagenet' Dataset."
      ]
    },
    {
      "cell_type": "markdown",
      "metadata": {
        "id": "Fa3GTla4In7l"
      },
      "source": [
        "First, let's mount the drive folder where data collected is stored.\r\n",
        " "
      ]
    },
    {
      "cell_type": "code",
      "metadata": {
        "colab": {
          "base_uri": "https://localhost:8080/"
        },
        "id": "VSIvuxi4InSF",
        "outputId": "10f5091e-0928-418c-fcc3-6e9f242d613c"
      },
      "source": [
        "# Run this block to mount your google drive\r\n",
        "# Follow the generated instructions\r\n",
        "\r\n",
        "from google.colab import drive\r\n",
        "drive.mount('/content/drive')"
      ],
      "execution_count": null,
      "outputs": [
        {
          "output_type": "stream",
          "text": [
            "Mounted at /content/drive\n"
          ],
          "name": "stdout"
        }
      ]
    },
    {
      "cell_type": "markdown",
      "metadata": {
        "id": "n4sgGnVBJimD"
      },
      "source": [
        "You will see a drive folder on the left in Files"
      ]
    },
    {
      "cell_type": "code",
      "metadata": {
        "colab": {
          "base_uri": "https://localhost:8080/"
        },
        "id": "KVfW3Zk4GE0p",
        "outputId": "a0cff531-65e5-498d-a8ee-c412dd22e8d0"
      },
      "source": [
        "!ls \"/content/drive/MyDrive/inception_model\"\r\n"
      ],
      "execution_count": null,
      "outputs": [
        {
          "output_type": "stream",
          "text": [
            "testing_or_cv  training\n"
          ],
          "name": "stdout"
        }
      ]
    },
    {
      "cell_type": "markdown",
      "metadata": {
        "id": "dKWWlU9PGglJ"
      },
      "source": [
        "Make sure your base directory has a structure like this:-\r\n",
        "\r\n",
        "|----training_directory\r\n",
        "\r\n",
        "                |----garbage_image_directory\r\n",
        "                |----non_garbage_image_directory\r\n",
        "\r\n",
        "\r\n",
        "\r\n",
        "\r\n"
      ]
    },
    {
      "cell_type": "markdown",
      "metadata": {
        "id": "cPHclW40K2SB"
      },
      "source": [
        "Import VGG model and required libraries"
      ]
    },
    {
      "cell_type": "code",
      "metadata": {
        "colab": {
          "base_uri": "https://localhost:8080/"
        },
        "id": "bJ33Q8M1KtDK",
        "outputId": "69c93341-eef7-48eb-aeb1-513342dc9891"
      },
      "source": [
        "# USING VGG-MODEL\r\n",
        "\r\n",
        "import keras,os\r\n",
        "import numpy as np\r\n",
        "import tensorflow as tf\r\n",
        "import cv2\r\n",
        "import matplotlib.pyplot as plt\r\n",
        "\r\n",
        "from tensorflow.python.util import deprecation\r\n",
        "from tensorflow.keras import backend\r\n",
        "from tensorflow.keras.applications.resnet50 import preprocess_input\r\n",
        "# deprecation._PRINT_DEPRECATION_WARNINGS = False\r\n",
        "\r\n",
        "from tensorflow.keras.models import Sequential\r\n",
        "from tensorflow.keras.layers import Dense, Conv2D, MaxPool2D, Flatten\r\n",
        "from tensorflow.keras.preprocessing.image import ImageDataGenerator\r\n",
        "from tensorflow.keras.optimizers import Adam\r\n",
        "from tensorflow.keras.callbacks import ModelCheckpoint, EarlyStopping\r\n",
        "from tensorflow.keras.applications.vgg16 import VGG16\r\n",
        "from keras.preprocessing import image\r\n",
        "from tensorflow.keras.models import load_model\r\n",
        "print(\"Imports done.\")"
      ],
      "execution_count": null,
      "outputs": [
        {
          "output_type": "stream",
          "text": [
            "Imports done.\n"
          ],
          "name": "stdout"
        }
      ]
    },
    {
      "cell_type": "markdown",
      "metadata": {
        "id": "JUrxxK2_Mb6H"
      },
      "source": [
        "You can see the summary about the diiferent layers in the VGG16 model."
      ]
    },
    {
      "cell_type": "code",
      "metadata": {
        "colab": {
          "base_uri": "https://localhost:8080/"
        },
        "id": "AzlLS0zjL8-N",
        "outputId": "ef190c35-653a-4900-c5ca-b99182188c88"
      },
      "source": [
        "#load model\r\n",
        "model = VGG16()\r\n",
        "#summarize the model\r\n",
        "model.summary()\r\n"
      ],
      "execution_count": null,
      "outputs": [
        {
          "output_type": "stream",
          "text": [
            "Downloading data from https://storage.googleapis.com/tensorflow/keras-applications/vgg16/vgg16_weights_tf_dim_ordering_tf_kernels.h5\n",
            "553467904/553467096 [==============================] - 4s 0us/step\n",
            "Model: \"vgg16\"\n",
            "_________________________________________________________________\n",
            "Layer (type)                 Output Shape              Param #   \n",
            "=================================================================\n",
            "input_1 (InputLayer)         [(None, 224, 224, 3)]     0         \n",
            "_________________________________________________________________\n",
            "block1_conv1 (Conv2D)        (None, 224, 224, 64)      1792      \n",
            "_________________________________________________________________\n",
            "block1_conv2 (Conv2D)        (None, 224, 224, 64)      36928     \n",
            "_________________________________________________________________\n",
            "block1_pool (MaxPooling2D)   (None, 112, 112, 64)      0         \n",
            "_________________________________________________________________\n",
            "block2_conv1 (Conv2D)        (None, 112, 112, 128)     73856     \n",
            "_________________________________________________________________\n",
            "block2_conv2 (Conv2D)        (None, 112, 112, 128)     147584    \n",
            "_________________________________________________________________\n",
            "block2_pool (MaxPooling2D)   (None, 56, 56, 128)       0         \n",
            "_________________________________________________________________\n",
            "block3_conv1 (Conv2D)        (None, 56, 56, 256)       295168    \n",
            "_________________________________________________________________\n",
            "block3_conv2 (Conv2D)        (None, 56, 56, 256)       590080    \n",
            "_________________________________________________________________\n",
            "block3_conv3 (Conv2D)        (None, 56, 56, 256)       590080    \n",
            "_________________________________________________________________\n",
            "block3_pool (MaxPooling2D)   (None, 28, 28, 256)       0         \n",
            "_________________________________________________________________\n",
            "block4_conv1 (Conv2D)        (None, 28, 28, 512)       1180160   \n",
            "_________________________________________________________________\n",
            "block4_conv2 (Conv2D)        (None, 28, 28, 512)       2359808   \n",
            "_________________________________________________________________\n",
            "block4_conv3 (Conv2D)        (None, 28, 28, 512)       2359808   \n",
            "_________________________________________________________________\n",
            "block4_pool (MaxPooling2D)   (None, 14, 14, 512)       0         \n",
            "_________________________________________________________________\n",
            "block5_conv1 (Conv2D)        (None, 14, 14, 512)       2359808   \n",
            "_________________________________________________________________\n",
            "block5_conv2 (Conv2D)        (None, 14, 14, 512)       2359808   \n",
            "_________________________________________________________________\n",
            "block5_conv3 (Conv2D)        (None, 14, 14, 512)       2359808   \n",
            "_________________________________________________________________\n",
            "block5_pool (MaxPooling2D)   (None, 7, 7, 512)         0         \n",
            "_________________________________________________________________\n",
            "flatten (Flatten)            (None, 25088)             0         \n",
            "_________________________________________________________________\n",
            "fc1 (Dense)                  (None, 4096)              102764544 \n",
            "_________________________________________________________________\n",
            "fc2 (Dense)                  (None, 4096)              16781312  \n",
            "_________________________________________________________________\n",
            "predictions (Dense)          (None, 1000)              4097000   \n",
            "=================================================================\n",
            "Total params: 138,357,544\n",
            "Trainable params: 138,357,544\n",
            "Non-trainable params: 0\n",
            "_________________________________________________________________\n"
          ],
          "name": "stdout"
        }
      ]
    },
    {
      "cell_type": "code",
      "metadata": {
        "colab": {
          "base_uri": "https://localhost:8080/",
          "height": 1000
        },
        "id": "SAmze20MVHDF",
        "outputId": "8a8cc1ba-5a78-4975-d533-5565348809af"
      },
      "source": [
        "from keras.utils import  plot_model\r\n",
        "plot_model(model)"
      ],
      "execution_count": null,
      "outputs": [
        {
          "output_type": "execute_result",
          "data": {
            "image/png": "[encoded data removed]",
            "text/plain": [
              "<IPython.core.display.Image object>"
            ]
          },
          "metadata": {
            "tags": []
          },
          "execution_count": 5
        }
      ]
    },
    {
      "cell_type": "markdown",
      "metadata": {
        "id": "asSeDfwROLtF"
      },
      "source": [
        "First Lets try to classify our image based on the VGG16 model using imagenet weights."
      ]
    },
    {
      "cell_type": "code",
      "metadata": {
        "colab": {
          "base_uri": "https://localhost:8080/"
        },
        "id": "x6pgaDSMOLYV",
        "outputId": "03d1916e-e5ab-4d69-96b9-e2958c07ac92"
      },
      "source": [
        "# example of using a pre-trained model as a classifier\r\n",
        "from keras.preprocessing.image import load_img\r\n",
        "from keras.preprocessing.image import img_to_array\r\n",
        "from keras.applications.vgg16 import preprocess_input\r\n",
        "from keras.applications.vgg16 import decode_predictions\r\n",
        "\r\n",
        "# load an image from file\r\n",
        "image = load_img('/content/drive/MyDrive/inception_model/training/garbage/1.jpg', target_size=(224, 224))\r\n",
        "# convert the image pixels to a numpy array\r\n",
        "image = img_to_array(image)\r\n",
        "# reshape data for the model\r\n",
        "image = image.reshape((1, image.shape[0], image.shape[1], image.shape[2]))\r\n",
        "# prepare the image for the VGG model\r\n",
        "image = preprocess_input(image)\r\n",
        "# load the model\r\n",
        "model = VGG16( weights='imagenet')\r\n",
        "# predict the probability across all output classes\r\n",
        "yhat = model.predict(image)\r\n",
        "# convert the probabilities to class labels\r\n",
        "label = decode_predictions(yhat)\r\n",
        "# retrieve the most likely result, e.g. highest probability\r\n",
        "label = label[0][0]\r\n",
        "# print the classification\r\n",
        "print('%s (%.2f%%)' % (label[1], label[2]*100))"
      ],
      "execution_count": null,
      "outputs": [
        {
          "output_type": "stream",
          "text": [
            "Downloading data from https://storage.googleapis.com/download.tensorflow.org/data/imagenet_class_index.json\n",
            "40960/35363 [==================================] - 0s 0us/step\n",
            "viaduct (16.16%)\n"
          ],
          "name": "stdout"
        }
      ]
    },
    {
      "cell_type": "markdown",
      "metadata": {
        "id": "uveymyBTSzG_"
      },
      "source": [
        "You can see what the VGG16 model predicted.\r\n",
        "Now coming to the point, we want to do binary classification to tell whether there is garbage in our picture or not. We also need to train our model on our image data. For that we usually augment our data into a data frame using pandas llibrary but since our base directory already contains two classes, we do not need to construct a dataframe.\r\n",
        "\r\n",
        "You can consider a dataframe as a tabular representation of data with rows and columns as you have probably seen in Excel.\r\n"
      ]
    },
    {
      "cell_type": "code",
      "metadata": {
        "id": "C18MLMZWMYkW",
        "colab": {
          "base_uri": "https://localhost:8080/"
        },
        "outputId": "ab24955c-dca2-414f-b2b9-767fb13241ab"
      },
      "source": [
        "HEIGHT = 64\r\n",
        "WIDTH = 64\r\n",
        "base_model = VGG16(weights='imagenet', \r\n",
        "                      include_top=False, \r\n",
        "                      input_shape=(HEIGHT, WIDTH, 3))\r\n"
      ],
      "execution_count": null,
      "outputs": [
        {
          "output_type": "stream",
          "text": [
            "Downloading data from https://storage.googleapis.com/tensorflow/keras-applications/vgg16/vgg16_weights_tf_dim_ordering_tf_kernels_notop.h5\n",
            "58892288/58889256 [==============================] - 0s 0us/step\n"
          ],
          "name": "stdout"
        }
      ]
    },
    {
      "cell_type": "markdown",
      "metadata": {
        "id": "CO7kxjtZX7ft"
      },
      "source": [
        "Notice that we have used include_top=False. This setting is important, as it means that we won’t be keeping the Fully-Connected (FC) layers at the end of the model. This is exactly what we want since we’re going to train our own brand new FC layers for transfer learning."
      ]
    },
    {
      "cell_type": "markdown",
      "metadata": {
        "id": "rPZ7PPPBJ1pr"
      },
      "source": [
        "Also note that we are using the weights which were trained on imagenet dataset.\r\n"
      ]
    },
    {
      "cell_type": "markdown",
      "metadata": {
        "id": "LwuiL4EZKEy5"
      },
      "source": [
        "ImageDataGenerator is used to artificially expand the size of the training image data."
      ]
    },
    {
      "cell_type": "code",
      "metadata": {
        "colab": {
          "base_uri": "https://localhost:8080/"
        },
        "id": "PJYclKmWfBgt",
        "outputId": "a6d09ece-84d2-4156-d721-4b16447e7a51"
      },
      "source": [
        "from keras.preprocessing.image import ImageDataGenerator\r\n",
        "\r\n",
        "TRAIN_DIR = \"/content/drive/MyDrive/inception_model/training\"\r\n",
        "HEIGHT = 64\r\n",
        "WIDTH = 64\r\n",
        "BATCH_SIZE = 2\r\n",
        "\r\n",
        "train_datagen =  ImageDataGenerator(rescale=1./255.,\r\n",
        "                                    validation_split=0.2,\r\n",
        "                                    rotation_range=30,\r\n",
        "                                    width_shift_range=0.2,\r\n",
        "                                    height_shift_range=0.2,\r\n",
        "                                    shear_range=0.15,\r\n",
        "                                    horizontal_flip=True,\r\n",
        "                                    fill_mode=\"nearest\")\r\n",
        "\r\n",
        "\r\n",
        "train_generator = train_datagen.flow_from_directory(TRAIN_DIR, \r\n",
        "                                                    target_size=(HEIGHT, WIDTH), \r\n",
        "                                                    batch_size=BATCH_SIZE,\r\n",
        "                                                    shuffle=True,\r\n",
        "                                                    class_mode=\"categorical\")"
      ],
      "execution_count": null,
      "outputs": [
        {
          "output_type": "stream",
          "text": [
            "Found 20 images belonging to 2 classes.\n"
          ],
          "name": "stdout"
        }
      ]
    },
    {
      "cell_type": "code",
      "metadata": {
        "id": "AVJGDsm7fCjK"
      },
      "source": [
        "from keras.layers import Dense, Activation, Flatten, Dropout\r\n",
        "from keras.models import Sequential, Model\r\n",
        "\r\n",
        "def build_finetune_model(base_model, dropout, fc_layers, num_classes):\r\n",
        "    for layer in base_model.layers:\r\n",
        "        layer.trainable = False\r\n",
        "\r\n",
        "    x = base_model.output\r\n",
        "    x = Flatten()(x)\r\n",
        "    for fc in fc_layers:\r\n",
        "        # New FC layer, random init\r\n",
        "        x = Dense(fc, activation='relu')(x) \r\n",
        "        x = Dropout(dropout)(x)\r\n",
        "\r\n",
        "    # New softmax layer\r\n",
        "    predictions = Dense(num_classes, activation='softmax')(x) \r\n",
        "    \r\n",
        "    finetune_model = Model(inputs=base_model.input, outputs=predictions)\r\n",
        "\r\n",
        "    return finetune_model\r\n",
        "\r\n",
        "class_list = [\"Garbage\", \"Not_Garbage\"]\r\n",
        "\r\n",
        "FC_LAYERS = [1024, 1024]\r\n",
        "dropout = 0.5\r\n",
        "\r\n",
        "finetune_model = build_finetune_model(base_model, \r\n",
        "                                      dropout=dropout, \r\n",
        "                                      fc_layers=FC_LAYERS, \r\n",
        "                                      num_classes=len(class_list))\r\n"
      ],
      "execution_count": null,
      "outputs": []
    },
    {
      "cell_type": "code",
      "metadata": {
        "colab": {
          "base_uri": "https://localhost:8080/",
          "height": 1000
        },
        "id": "AmV4AeRlfLiP",
        "outputId": "687bba14-8a42-4ffb-a9d9-d785cc747ead"
      },
      "source": [
        "from keras.optimizers import SGD, Adam\r\n",
        "from keras.callbacks import ModelCheckpoint\r\n",
        "import matplotlib.pyplot as plt\r\n",
        "\r\n",
        "NUM_EPOCHS = 10\r\n",
        "BATCH_SIZE = 8\r\n",
        "num_train_images = 10\r\n",
        "\r\n",
        "adam = Adam(lr=0.00001)\r\n",
        "finetune_model.compile(adam, loss='binary_crossentropy', metrics=['accuracy'])\r\n",
        "\r\n",
        "filepath=\"./checkpoints/\" + \"_model_weights.h5\"\r\n",
        "checkpoint = ModelCheckpoint(filepath, monitor=[\"accuracy\"], verbose=1, mode='max')\r\n",
        "callbacks_list = [checkpoint]\r\n",
        "\r\n",
        "history = finetune_model.fit(train_generator, epochs=NUM_EPOCHS,\r\n",
        "                                       workers=8, \r\n",
        "                                       steps_per_epoch=num_train_images // BATCH_SIZE, \r\n",
        "                                        callbacks=callbacks_list,\r\n",
        "                                        shuffle=True)\r\n",
        "\r\n",
        "\r\n",
        "\r\n",
        "# Plot the training and validation loss + accuracy\r\n",
        "def plot_training(history):\r\n",
        "    acc = history.history['accuracy']\r\n",
        "   # val_acc = history.history['val_acc']\r\n",
        "    loss = history.history['loss']\r\n",
        "   # val_loss = history.history['val_loss']\r\n",
        "    epochs = range(len(acc))\r\n",
        "\r\n",
        "    plt.plot(epochs, acc, 'r.')\r\n",
        "   # plt.plot(epochs, val_acc, 'r')\r\n",
        "    plt.title('Training and validation accuracy')\r\n",
        "\r\n",
        "    plt.figure()\r\n",
        "    plt.plot(epochs, loss, 'r.')\r\n",
        "    plt.title('Training and validation loss')\r\n",
        "    plt.show()\r\n",
        "\r\n",
        "    plt.savefig('acc_vs_epochs.png')\r\n",
        "\r\n",
        "    \r\n",
        "plot_training(history)"
      ],
      "execution_count": null,
      "outputs": [
        {
          "output_type": "stream",
          "text": [
            "Epoch 1/10\n",
            "1/1 [==============================] - 2s 2s/step - loss: 0.6363 - accuracy: 1.0000\n",
            "\n",
            "Epoch 00001: saving model to ./checkpoints/_model_weights.h5\n",
            "Epoch 2/10\n",
            "1/1 [==============================] - 1s 513ms/step - loss: 1.1332 - accuracy: 0.0000e+00\n",
            "\n",
            "Epoch 00002: saving model to ./checkpoints/_model_weights.h5\n",
            "Epoch 3/10\n",
            "1/1 [==============================] - 1s 506ms/step - loss: 0.8071 - accuracy: 0.5000\n",
            "\n",
            "Epoch 00003: saving model to ./checkpoints/_model_weights.h5\n",
            "Epoch 4/10\n",
            "1/1 [==============================] - 1s 514ms/step - loss: 0.6870 - accuracy: 0.5000\n",
            "\n",
            "Epoch 00004: saving model to ./checkpoints/_model_weights.h5\n",
            "Epoch 5/10\n",
            "1/1 [==============================] - 1s 504ms/step - loss: 0.7656 - accuracy: 0.0000e+00\n",
            "\n",
            "Epoch 00005: saving model to ./checkpoints/_model_weights.h5\n",
            "Epoch 6/10\n",
            "1/1 [==============================] - 1s 517ms/step - loss: 1.0768 - accuracy: 0.5000\n",
            "\n",
            "Epoch 00006: saving model to ./checkpoints/_model_weights.h5\n",
            "Epoch 7/10\n",
            "1/1 [==============================] - 1s 511ms/step - loss: 0.9237 - accuracy: 0.5000\n",
            "\n",
            "Epoch 00007: saving model to ./checkpoints/_model_weights.h5\n",
            "Epoch 8/10\n",
            "1/1 [==============================] - 0s 482ms/step - loss: 0.7181 - accuracy: 0.5000\n",
            "\n",
            "Epoch 00008: saving model to ./checkpoints/_model_weights.h5\n",
            "Epoch 9/10\n",
            "1/1 [==============================] - 1s 571ms/step - loss: 0.6939 - accuracy: 1.0000\n",
            "\n",
            "Epoch 00009: saving model to ./checkpoints/_model_weights.h5\n",
            "Epoch 10/10\n",
            "1/1 [==============================] - 0s 470ms/step - loss: 0.8423 - accuracy: 0.5000\n",
            "\n",
            "Epoch 00010: saving model to ./checkpoints/_model_weights.h5\n"
          ],
          "name": "stdout"
        },
        {
          "output_type": "display_data",
          "data": {
            "image/png": "[encoded data removed]",
            "text/plain": [
              "<Figure size 432x288 with 1 Axes>"
            ]
          },
          "metadata": {
            "tags": [],
            "needs_background": "light"
          }
        },
        {
          "output_type": "display_data",
          "data": {
            "image/png": "[encoded data removed]",
            "text/plain": [
              "<Figure size 432x288 with 1 Axes>"
            ]
          },
          "metadata": {
            "tags": [],
            "needs_background": "light"
          }
        },
        {
          "output_type": "display_data",
          "data": {
            "text/plain": [
              "<Figure size 432x288 with 0 Axes>"
            ]
          },
          "metadata": {
            "tags": []
          }
        }
      ]
    },
    {
      "cell_type": "code",
      "metadata": {
        "id": "dYf8QK3nNiXd"
      },
      "source": [
        "finetune_model.save('/content/vgg16binary.h5')"
      ],
      "execution_count": null,
      "outputs": []
    },
    {
      "cell_type": "code",
      "metadata": {
        "id": "GOCUZNnCN0ko"
      },
      "source": [
        "from tensorflow.keras.models import load_model\r\n",
        "\r\n",
        "Model = load_model('/content/vgg16binary.h5')\r\n",
        "Model.compile(adam, loss='binary_crossentropy', metrics=['accuracy'])"
      ],
      "execution_count": null,
      "outputs": []
    },
    {
      "cell_type": "markdown",
      "metadata": {
        "id": "pIbhM2VmPKxf"
      },
      "source": [
        "Now let's use our trained model to classify garbage and non_garbage images.\r\n"
      ]
    },
    {
      "cell_type": "code",
      "metadata": {
        "colab": {
          "base_uri": "https://localhost:8080/"
        },
        "id": "blNoI7OfPTPD",
        "outputId": "df479e9d-dd22-4a7f-f10d-71ecc662c413"
      },
      "source": [
        "\r\n",
        "# load an image from file\r\n",
        "image = load_img('/content/drive/MyDrive/inception_model/testing_or_cv/garbage/2.jpg', target_size=(64, 64))\r\n",
        "# convert the image pixels to a numpy array\r\n",
        "image = img_to_array(image)\r\n",
        "# reshape data for the model\r\n",
        "image = image.reshape((1, image.shape[0], image.shape[1], image.shape[2]))\r\n",
        "# prepare the image for the VGG model\r\n",
        "image = preprocess_input(image)\r\n",
        "# load the model\r\n",
        "Model.predict(image)\r\n",
        "# predict the probability across all output classes\r\n",
        "yhat = Model.predict(image)\r\n",
        "np.set_printoptions(precision=5,suppress=True)\r\n",
        "\r\n",
        "for m in range(0,len(class_list)) :\r\n",
        "  print(str(class_list[m])+\" probability ->\"+str(yhat[0][m]*100))"
      ],
      "execution_count": null,
      "outputs": [
        {
          "output_type": "stream",
          "text": [
            "Garbage probability ->98.6884355545044\n",
            "Not_Garbage probability ->1.311566587537527\n"
          ],
          "name": "stdout"
        }
      ]
    }
  ]
}